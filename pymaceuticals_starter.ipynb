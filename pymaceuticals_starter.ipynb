{
 "cells": [
  {
   "cell_type": "markdown",
   "metadata": {},
   "source": [
    "## Observations and Insights "
   ]
  },
  {
   "cell_type": "markdown",
   "metadata": {},
   "source": []
  },
  {
   "cell_type": "code",
   "execution_count": 133,
   "metadata": {},
   "outputs": [
    {
     "data": {
      "text/html": [
       "<div>\n",
       "<style scoped>\n",
       "    .dataframe tbody tr th:only-of-type {\n",
       "        vertical-align: middle;\n",
       "    }\n",
       "\n",
       "    .dataframe tbody tr th {\n",
       "        vertical-align: top;\n",
       "    }\n",
       "\n",
       "    .dataframe thead th {\n",
       "        text-align: right;\n",
       "    }\n",
       "</style>\n",
       "<table border=\"1\" class=\"dataframe\">\n",
       "  <thead>\n",
       "    <tr style=\"text-align: right;\">\n",
       "      <th></th>\n",
       "      <th>Mouse ID</th>\n",
       "      <th>Timepoint</th>\n",
       "      <th>Tumor Volume (mm3)</th>\n",
       "      <th>Metastatic Sites</th>\n",
       "      <th>Drug Regimen</th>\n",
       "      <th>Sex</th>\n",
       "      <th>Age_months</th>\n",
       "      <th>Weight (g)</th>\n",
       "    </tr>\n",
       "  </thead>\n",
       "  <tbody>\n",
       "    <tr>\n",
       "      <th>0</th>\n",
       "      <td>b128</td>\n",
       "      <td>0</td>\n",
       "      <td>45.000000</td>\n",
       "      <td>0</td>\n",
       "      <td>Capomulin</td>\n",
       "      <td>Female</td>\n",
       "      <td>9</td>\n",
       "      <td>22</td>\n",
       "    </tr>\n",
       "    <tr>\n",
       "      <th>1</th>\n",
       "      <td>b128</td>\n",
       "      <td>5</td>\n",
       "      <td>45.651331</td>\n",
       "      <td>0</td>\n",
       "      <td>Capomulin</td>\n",
       "      <td>Female</td>\n",
       "      <td>9</td>\n",
       "      <td>22</td>\n",
       "    </tr>\n",
       "    <tr>\n",
       "      <th>2</th>\n",
       "      <td>b128</td>\n",
       "      <td>10</td>\n",
       "      <td>43.270852</td>\n",
       "      <td>0</td>\n",
       "      <td>Capomulin</td>\n",
       "      <td>Female</td>\n",
       "      <td>9</td>\n",
       "      <td>22</td>\n",
       "    </tr>\n",
       "    <tr>\n",
       "      <th>3</th>\n",
       "      <td>b128</td>\n",
       "      <td>15</td>\n",
       "      <td>43.784893</td>\n",
       "      <td>0</td>\n",
       "      <td>Capomulin</td>\n",
       "      <td>Female</td>\n",
       "      <td>9</td>\n",
       "      <td>22</td>\n",
       "    </tr>\n",
       "    <tr>\n",
       "      <th>4</th>\n",
       "      <td>b128</td>\n",
       "      <td>20</td>\n",
       "      <td>42.731552</td>\n",
       "      <td>0</td>\n",
       "      <td>Capomulin</td>\n",
       "      <td>Female</td>\n",
       "      <td>9</td>\n",
       "      <td>22</td>\n",
       "    </tr>\n",
       "  </tbody>\n",
       "</table>\n",
       "</div>"
      ],
      "text/plain": [
       "  Mouse ID  Timepoint  Tumor Volume (mm3)  Metastatic Sites Drug Regimen  \\\n",
       "0     b128          0           45.000000                 0    Capomulin   \n",
       "1     b128          5           45.651331                 0    Capomulin   \n",
       "2     b128         10           43.270852                 0    Capomulin   \n",
       "3     b128         15           43.784893                 0    Capomulin   \n",
       "4     b128         20           42.731552                 0    Capomulin   \n",
       "\n",
       "      Sex  Age_months  Weight (g)  \n",
       "0  Female           9          22  \n",
       "1  Female           9          22  \n",
       "2  Female           9          22  \n",
       "3  Female           9          22  \n",
       "4  Female           9          22  "
      ]
     },
     "execution_count": 133,
     "metadata": {},
     "output_type": "execute_result"
    }
   ],
   "source": [
    "# Dependencies and Setup\n",
    "import matplotlib.pyplot as plt\n",
    "import pandas as pd\n",
    "import scipy.stats as st\n",
    "\n",
    "\n",
    "# Study data files\n",
    "mouse_metadata_path = \"data/Mouse_metadata.csv\"\n",
    "study_results_path = \"data/Study_results.csv\"\n",
    "\n",
    "# Read the mouse data and the study results\n",
    "mouse_metadata = pd.read_csv(mouse_metadata_path)\n",
    "study_results = pd.read_csv(study_results_path)\n",
    "\n",
    "# Combine the data into a single dataset\n",
    "data_full = pd.merge(study_results,mouse_metadata, on='Mouse ID')\n",
    "\n",
    "# Display the data table for preview\n",
    "\n",
    "data_full.head()"
   ]
  },
  {
   "cell_type": "code",
   "execution_count": 134,
   "metadata": {},
   "outputs": [
    {
     "name": "stdout",
     "output_type": "stream",
     "text": [
      "There are 1893 rows\n",
      "There are 249 unique mice\n"
     ]
    }
   ],
   "source": [
    "# Check the number of mice.\n",
    "rows = data_full['Mouse ID'].count()\n",
    "print(f\"There are {rows} rows\")\n",
    "print(f\"There are {data_full['Mouse ID'].nunique()} unique mice\")"
   ]
  },
  {
   "cell_type": "code",
   "execution_count": 135,
   "metadata": {},
   "outputs": [
    {
     "data": {
      "text/html": [
       "<div>\n",
       "<style scoped>\n",
       "    .dataframe tbody tr th:only-of-type {\n",
       "        vertical-align: middle;\n",
       "    }\n",
       "\n",
       "    .dataframe tbody tr th {\n",
       "        vertical-align: top;\n",
       "    }\n",
       "\n",
       "    .dataframe thead th {\n",
       "        text-align: right;\n",
       "    }\n",
       "</style>\n",
       "<table border=\"1\" class=\"dataframe\">\n",
       "  <thead>\n",
       "    <tr style=\"text-align: right;\">\n",
       "      <th></th>\n",
       "      <th>Mouse ID</th>\n",
       "      <th>Timepoint</th>\n",
       "      <th>Tumor Volume (mm3)</th>\n",
       "      <th>Metastatic Sites</th>\n",
       "      <th>Drug Regimen</th>\n",
       "      <th>Sex</th>\n",
       "      <th>Age_months</th>\n",
       "      <th>Weight (g)</th>\n",
       "    </tr>\n",
       "  </thead>\n",
       "  <tbody>\n",
       "    <tr>\n",
       "      <th>861</th>\n",
       "      <td>g989</td>\n",
       "      <td>0</td>\n",
       "      <td>45.0</td>\n",
       "      <td>0</td>\n",
       "      <td>Propriva</td>\n",
       "      <td>Female</td>\n",
       "      <td>21</td>\n",
       "      <td>26</td>\n",
       "    </tr>\n",
       "  </tbody>\n",
       "</table>\n",
       "</div>"
      ],
      "text/plain": [
       "    Mouse ID  Timepoint  Tumor Volume (mm3)  Metastatic Sites Drug Regimen  \\\n",
       "861     g989          0                45.0                 0     Propriva   \n",
       "\n",
       "        Sex  Age_months  Weight (g)  \n",
       "861  Female          21          26  "
      ]
     },
     "execution_count": 135,
     "metadata": {},
     "output_type": "execute_result"
    }
   ],
   "source": [
    "# Get the duplicate mice by ID number that shows up for Mouse ID and Timepoint. \n",
    "duplicate_id = data_full[data_full.duplicated(subset=None, keep='first')]\n",
    "duplicate_id"
   ]
  },
  {
   "cell_type": "code",
   "execution_count": 136,
   "metadata": {},
   "outputs": [
    {
     "data": {
      "text/html": [
       "<div>\n",
       "<style scoped>\n",
       "    .dataframe tbody tr th:only-of-type {\n",
       "        vertical-align: middle;\n",
       "    }\n",
       "\n",
       "    .dataframe tbody tr th {\n",
       "        vertical-align: top;\n",
       "    }\n",
       "\n",
       "    .dataframe thead th {\n",
       "        text-align: right;\n",
       "    }\n",
       "</style>\n",
       "<table border=\"1\" class=\"dataframe\">\n",
       "  <thead>\n",
       "    <tr style=\"text-align: right;\">\n",
       "      <th></th>\n",
       "      <th>Mouse ID</th>\n",
       "      <th>Timepoint</th>\n",
       "      <th>Tumor Volume (mm3)</th>\n",
       "      <th>Metastatic Sites</th>\n",
       "      <th>Drug Regimen</th>\n",
       "      <th>Sex</th>\n",
       "      <th>Age_months</th>\n",
       "      <th>Weight (g)</th>\n",
       "    </tr>\n",
       "  </thead>\n",
       "  <tbody>\n",
       "    <tr>\n",
       "      <th>861</th>\n",
       "      <td>g989</td>\n",
       "      <td>0</td>\n",
       "      <td>45.000000</td>\n",
       "      <td>0</td>\n",
       "      <td>Propriva</td>\n",
       "      <td>Female</td>\n",
       "      <td>21</td>\n",
       "      <td>26</td>\n",
       "    </tr>\n",
       "    <tr>\n",
       "      <th>863</th>\n",
       "      <td>g989</td>\n",
       "      <td>5</td>\n",
       "      <td>47.570392</td>\n",
       "      <td>0</td>\n",
       "      <td>Propriva</td>\n",
       "      <td>Female</td>\n",
       "      <td>21</td>\n",
       "      <td>26</td>\n",
       "    </tr>\n",
       "    <tr>\n",
       "      <th>865</th>\n",
       "      <td>g989</td>\n",
       "      <td>10</td>\n",
       "      <td>49.880528</td>\n",
       "      <td>0</td>\n",
       "      <td>Propriva</td>\n",
       "      <td>Female</td>\n",
       "      <td>21</td>\n",
       "      <td>26</td>\n",
       "    </tr>\n",
       "    <tr>\n",
       "      <th>867</th>\n",
       "      <td>g989</td>\n",
       "      <td>15</td>\n",
       "      <td>53.442020</td>\n",
       "      <td>0</td>\n",
       "      <td>Propriva</td>\n",
       "      <td>Female</td>\n",
       "      <td>21</td>\n",
       "      <td>26</td>\n",
       "    </tr>\n",
       "    <tr>\n",
       "      <th>869</th>\n",
       "      <td>g989</td>\n",
       "      <td>20</td>\n",
       "      <td>54.657650</td>\n",
       "      <td>1</td>\n",
       "      <td>Propriva</td>\n",
       "      <td>Female</td>\n",
       "      <td>21</td>\n",
       "      <td>26</td>\n",
       "    </tr>\n",
       "  </tbody>\n",
       "</table>\n",
       "</div>"
      ],
      "text/plain": [
       "    Mouse ID  Timepoint  Tumor Volume (mm3)  Metastatic Sites Drug Regimen  \\\n",
       "861     g989          0           45.000000                 0     Propriva   \n",
       "863     g989          5           47.570392                 0     Propriva   \n",
       "865     g989         10           49.880528                 0     Propriva   \n",
       "867     g989         15           53.442020                 0     Propriva   \n",
       "869     g989         20           54.657650                 1     Propriva   \n",
       "\n",
       "        Sex  Age_months  Weight (g)  \n",
       "861  Female          21          26  \n",
       "863  Female          21          26  \n",
       "865  Female          21          26  \n",
       "867  Female          21          26  \n",
       "869  Female          21          26  "
      ]
     },
     "execution_count": 136,
     "metadata": {},
     "output_type": "execute_result"
    }
   ],
   "source": [
    "# Optional: Get all the data for the duplicate mouse ID. \n",
    "duplicate_df = data_full[data_full.duplicated(subset=['Mouse ID', 'Timepoint'], keep='first')]\n",
    "duplicate_df"
   ]
  },
  {
   "cell_type": "code",
   "execution_count": 137,
   "metadata": {},
   "outputs": [],
   "source": [
    "# Create a clean DataFrame by dropping the duplicate mouse by its ID.\n",
    "clean_data = data_full.loc[data_full['Mouse ID'] != 'g989']"
   ]
  },
  {
   "cell_type": "code",
   "execution_count": 138,
   "metadata": {},
   "outputs": [
    {
     "data": {
      "text/plain": [
       "248"
      ]
     },
     "execution_count": 138,
     "metadata": {},
     "output_type": "execute_result"
    }
   ],
   "source": [
    "# Check the number of mice in the clean DataFrame.\n",
    "clean_data['Mouse ID'].nunique()"
   ]
  },
  {
   "cell_type": "markdown",
   "metadata": {},
   "source": [
    "## Summary Statistics"
   ]
  },
  {
   "cell_type": "code",
   "execution_count": 139,
   "metadata": {},
   "outputs": [
    {
     "data": {
      "text/html": [
       "<div>\n",
       "<style scoped>\n",
       "    .dataframe tbody tr th:only-of-type {\n",
       "        vertical-align: middle;\n",
       "    }\n",
       "\n",
       "    .dataframe tbody tr th {\n",
       "        vertical-align: top;\n",
       "    }\n",
       "\n",
       "    .dataframe thead tr th {\n",
       "        text-align: left;\n",
       "    }\n",
       "\n",
       "    .dataframe thead tr:last-of-type th {\n",
       "        text-align: right;\n",
       "    }\n",
       "</style>\n",
       "<table border=\"1\" class=\"dataframe\">\n",
       "  <thead>\n",
       "    <tr>\n",
       "      <th></th>\n",
       "      <th colspan=\"5\" halign=\"left\">Tumor Volume (mm3)</th>\n",
       "    </tr>\n",
       "    <tr>\n",
       "      <th></th>\n",
       "      <th>mean</th>\n",
       "      <th>max</th>\n",
       "      <th>median</th>\n",
       "      <th>std</th>\n",
       "      <th>sem</th>\n",
       "    </tr>\n",
       "    <tr>\n",
       "      <th>Drug Regimen</th>\n",
       "      <th></th>\n",
       "      <th></th>\n",
       "      <th></th>\n",
       "      <th></th>\n",
       "      <th></th>\n",
       "    </tr>\n",
       "  </thead>\n",
       "  <tbody>\n",
       "    <tr>\n",
       "      <th>Capomulin</th>\n",
       "      <td>40.675741</td>\n",
       "      <td>48.158209</td>\n",
       "      <td>41.557809</td>\n",
       "      <td>4.994774</td>\n",
       "      <td>0.329346</td>\n",
       "    </tr>\n",
       "    <tr>\n",
       "      <th>Ceftamin</th>\n",
       "      <td>52.591172</td>\n",
       "      <td>68.923185</td>\n",
       "      <td>51.776157</td>\n",
       "      <td>6.268188</td>\n",
       "      <td>0.469821</td>\n",
       "    </tr>\n",
       "    <tr>\n",
       "      <th>Infubinol</th>\n",
       "      <td>52.884795</td>\n",
       "      <td>72.226731</td>\n",
       "      <td>51.820584</td>\n",
       "      <td>6.567243</td>\n",
       "      <td>0.492236</td>\n",
       "    </tr>\n",
       "    <tr>\n",
       "      <th>Ketapril</th>\n",
       "      <td>55.235638</td>\n",
       "      <td>78.567014</td>\n",
       "      <td>53.698743</td>\n",
       "      <td>8.279709</td>\n",
       "      <td>0.603860</td>\n",
       "    </tr>\n",
       "    <tr>\n",
       "      <th>Naftisol</th>\n",
       "      <td>54.331565</td>\n",
       "      <td>76.668817</td>\n",
       "      <td>52.509285</td>\n",
       "      <td>8.134708</td>\n",
       "      <td>0.596466</td>\n",
       "    </tr>\n",
       "    <tr>\n",
       "      <th>Placebo</th>\n",
       "      <td>54.033581</td>\n",
       "      <td>73.212939</td>\n",
       "      <td>52.288934</td>\n",
       "      <td>7.821003</td>\n",
       "      <td>0.581331</td>\n",
       "    </tr>\n",
       "    <tr>\n",
       "      <th>Propriva</th>\n",
       "      <td>52.320930</td>\n",
       "      <td>72.455421</td>\n",
       "      <td>50.446266</td>\n",
       "      <td>6.622085</td>\n",
       "      <td>0.544332</td>\n",
       "    </tr>\n",
       "    <tr>\n",
       "      <th>Ramicane</th>\n",
       "      <td>40.216745</td>\n",
       "      <td>47.622816</td>\n",
       "      <td>40.673236</td>\n",
       "      <td>4.846308</td>\n",
       "      <td>0.320955</td>\n",
       "    </tr>\n",
       "    <tr>\n",
       "      <th>Stelasyn</th>\n",
       "      <td>54.233149</td>\n",
       "      <td>75.123690</td>\n",
       "      <td>52.431737</td>\n",
       "      <td>7.710419</td>\n",
       "      <td>0.573111</td>\n",
       "    </tr>\n",
       "    <tr>\n",
       "      <th>Zoniferol</th>\n",
       "      <td>53.236507</td>\n",
       "      <td>73.324432</td>\n",
       "      <td>51.818479</td>\n",
       "      <td>6.966589</td>\n",
       "      <td>0.516398</td>\n",
       "    </tr>\n",
       "  </tbody>\n",
       "</table>\n",
       "</div>"
      ],
      "text/plain": [
       "             Tumor Volume (mm3)                                          \n",
       "                           mean        max     median       std       sem\n",
       "Drug Regimen                                                             \n",
       "Capomulin             40.675741  48.158209  41.557809  4.994774  0.329346\n",
       "Ceftamin              52.591172  68.923185  51.776157  6.268188  0.469821\n",
       "Infubinol             52.884795  72.226731  51.820584  6.567243  0.492236\n",
       "Ketapril              55.235638  78.567014  53.698743  8.279709  0.603860\n",
       "Naftisol              54.331565  76.668817  52.509285  8.134708  0.596466\n",
       "Placebo               54.033581  73.212939  52.288934  7.821003  0.581331\n",
       "Propriva              52.320930  72.455421  50.446266  6.622085  0.544332\n",
       "Ramicane              40.216745  47.622816  40.673236  4.846308  0.320955\n",
       "Stelasyn              54.233149  75.123690  52.431737  7.710419  0.573111\n",
       "Zoniferol             53.236507  73.324432  51.818479  6.966589  0.516398"
      ]
     },
     "execution_count": 139,
     "metadata": {},
     "output_type": "execute_result"
    }
   ],
   "source": [
    "# Method 2(optional): Generate a summary statistics table of mean, median, variance, standard deviation, and SEM of the tumor volume for each regimen\n",
    "sum_stats = clean_data.groupby(['Drug Regimen']).agg({'Tumor Volume (mm3)' : ['mean', 'max','median','std','sem']})\n",
    "sum_stats"
   ]
  },
  {
   "cell_type": "markdown",
   "metadata": {},
   "source": [
    "## Bar and Pie Charts"
   ]
  },
  {
   "cell_type": "code",
   "execution_count": 140,
   "metadata": {},
   "outputs": [
    {
     "data": {
      "text/plain": [
       "[]"
      ]
     },
     "execution_count": 140,
     "metadata": {},
     "output_type": "execute_result"
    },
    {
     "data": {
      "image/png": "[encoded data removed]",
      "text/plain": [
       "<Figure size 432x288 with 1 Axes>"
      ]
     },
     "metadata": {
      "needs_background": "light"
     },
     "output_type": "display_data"
    }
   ],
   "source": [
    "# Use Pandas to generate a bar plot showing the total number of mice in each treatment regimen throughout the course of the study. \n",
    "regimen_count = clean_data.groupby(['Drug Regimen'],as_index=False).agg({\"Mouse ID\": \"count\"})\n",
    "\n",
    "regimen_chartpd = regimen_count.plot(x=\"Drug Regimen\", kind='bar', title=\"Treatments per Drug Regimen\", rot=45, align=\"edge\")\n",
    "regimen_chartpd.set_xlabel(\"Drug Regimen\")\n",
    "regimen_chartpd.set_ylabel(\"Count of Mice\")\n",
    "regimen_chartpd.plot()\n",
    "## Note: this plot will be identical to the one that uses Pyplot"
   ]
  },
  {
   "cell_type": "code",
   "execution_count": 141,
   "metadata": {},
   "outputs": [
    {
     "data": {
      "text/plain": [
       "Text(0, 0.5, 'Count of Mice')"
      ]
     },
     "execution_count": 141,
     "metadata": {},
     "output_type": "execute_result"
    },
    {
     "data": {
      "image/png": "[encoded data removed]",
      "text/plain": [
       "<Figure size 432x288 with 1 Axes>"
      ]
     },
     "metadata": {
      "needs_background": "light"
     },
     "output_type": "display_data"
    }
   ],
   "source": [
    "# Use Pyplot to generate a bar plot showing the total number of mice treatment in each treatment regimen throughout the course of the study.\n",
    "x_axis = regimen_count[\"Drug Regimen\"]\n",
    "count_mice = regimen_count[\"Mouse ID\"]\n",
    "regimen_chartpy = plt.bar(x_axis, count_mice, color='r', align=\"edge\")\n",
    "plt.title(\"Treatments per Drug Regimen\")\n",
    "plt.xlabel(\"Drug Regimen\")\n",
    "plt.xticks(rotation=45)\n",
    "plt.ylabel(\"Count of Mice\")\n",
    "##  Note: this plot will be identical to the one that uses Pandas"
   ]
  },
  {
   "cell_type": "code",
   "execution_count": 142,
   "metadata": {},
   "outputs": [
    {
     "data": {
      "image/png": "[encoded data removed]",
      "text/plain": [
       "<Figure size 720x360 with 1 Axes>"
      ]
     },
     "metadata": {},
     "output_type": "display_data"
    }
   ],
   "source": [
    "# Use Pandas to generate a pie plot showing the distribution of female versus male mice\n",
    "gender_df = clean_data.groupby('Sex',as_index=False).agg({'Mouse ID':\"nunique\"})\n",
    "gender_chartpd = gender_df.plot.pie(y='Mouse ID', labels=gender_df['Sex'],label='',title='Mice by Gender', figsize=(10,5), startangle=45, autopct=\"%1.1f%%\")\n",
    "plt.show()"
   ]
  },
  {
   "cell_type": "code",
   "execution_count": 143,
   "metadata": {},
   "outputs": [
    {
     "data": {
      "image/png": "[encoded data removed]",
      "text/plain": [
       "<Figure size 720x360 with 1 Axes>"
      ]
     },
     "metadata": {},
     "output_type": "display_data"
    }
   ],
   "source": [
    "# Use Pyplot to generate a pie plot showing the distribution of female versus male mice\n",
    "sex = gender_df[\"Sex\"]\n",
    "count  = gender_df[\"Mouse ID\"]\n",
    "plt.figure(figsize=(10,5))\n",
    "plt.pie(count,labels=sex,startangle=45,autopct=\"%1.1f%%\")\n",
    "plt.title('Mice by Gender')\n",
    "plt.legend(sex,loc=\"upper right\")\n",
    "plt.show()"
   ]
  },
  {
   "cell_type": "markdown",
   "metadata": {},
   "source": [
    "## Quartiles, Outliers and Boxplots"
   ]
  },
  {
   "cell_type": "code",
   "execution_count": 145,
   "metadata": {},
   "outputs": [],
   "source": [
    "# Calculate the final tumor volume of each mouse across four of the drug regimens:  \n",
    "# Capomulin, Ramicane, Infubinol, and Ceftamin\n",
    "\n",
    "# Start by getting the last (latest) timepoint for each mouse\n",
    "clean_data = clean_data.sort_values(by=['Mouse ID', \"Timepoint\"])\n",
    "final_df = clean_data.groupby('Mouse ID',as_index=False).last()\n",
    "final_df = final_df[['Mouse ID', 'Timepoint', 'Tumor Volume (mm3)']]\n",
    "\n",
    "# Merge this group df with the original dataframe to get the tumor volume at the last timepoint\n",
    "results_df = pd.merge(mouse_metadata, final_df,on='Mouse ID')\n",
    "results_df = results_df.sort_values(by=['Drug Regimen'])"
   ]
  },
  {
   "cell_type": "code",
   "execution_count": 146,
   "metadata": {},
   "outputs": [],
   "source": [
    "# Put the four drug regimens into a list that can be iterated over in a for-loop \n",
    "# (and later used for plot labels)\n",
    "regimen = ['Capomulin','Ramicane', 'Infubinol', 'Ceftamin']\n",
    "\n",
    "# Create empty list to fill with tumor vol data (for plotting)\n",
    "capomulin_volume = []\n",
    "ramicane_volume = []\n",
    "infubinol_volume = []\n",
    "ceftamin_volume = []\n",
    "\n",
    "for x, y in results_df.iterrows():\n",
    "    if results_df.iloc[x,1] == regimen[0]:\n",
    "        capomulin_volume.append(results_df.iloc[x, 6])\n",
    "    elif results_df.iloc[x,1] == regimen[1]:\n",
    "        ramicane_volume.append(results_df.iloc[x, 6])\n",
    "    elif results_df.iloc[x,1] == regimen[2]:\n",
    "        infubinol_volume.append(results_df.iloc[x, 6])\n",
    "    elif results_df.iloc[x,1] == regimen[3]:\n",
    "        ceftamin_volume.append(results_df.iloc[x, 6])\n",
    "\n",
    "regimen_df = pd.DataFrame({'Capomulin' : capomulin_volume,'Ramicane' : ramicane_volume, 'Infubinol': infubinol_volume, 'Ceftamin': ceftamin_volume})"
   ]
  },
  {
   "cell_type": "code",
   "execution_count": 147,
   "metadata": {},
   "outputs": [],
   "source": [
    "# Calculate the IQR and quantitatively determine if there are any potential outliers. \n",
    "# Capomulin\n",
    "capomulin_quartiles = regimen_df['Capomulin'].quantile([.25, .5, .75])\n",
    "capomulin_lowerq = capomulin_quartiles[.25]\n",
    "capomulin_uperq = capomulin_quartiles[.75]\n",
    "capomulin_iqr = capomulin_uperq - capomulin_lowerq\n",
    "\n",
    "# Ramicane\n",
    "ramicane_quartiles = regimen_df['Ramicane'].quantile([.25, .5, .75])\n",
    "ramicane_lowerq = ramicane_quartiles[.25]\n",
    "ramicane_uperq = ramicane_quartiles[.75]\n",
    "ramicane_iqr = ramicane_uperq - ramicane_lowerq\n",
    "\n",
    "# Infubinol\n",
    "infubinol_quartiles = regimen_df['Infubinol'].quantile([.25, .5, .75])\n",
    "infubinol_lowerq = infubinol_quartiles[.25]\n",
    "infubinol_uperq = infubinol_quartiles[.75]\n",
    "infubinol_iqr = infubinol_uperq - ramicane_lowerq\n",
    "\n",
    "#Ceftamin\n",
    "ceftamin_quartiles = regimen_df['Ceftamin'].quantile([.25, .5, .75])\n",
    "ceftamin_lowerq = ceftamin_quartiles[.25]\n",
    "ceftamin_uperq = ceftamin_quartiles[.75]\n",
    "ceftamin_iqr = ceftamin_uperq - ceftamin_lowerq\n",
    "\n",
    "# Determine outliers using upper and lower bounds\n",
    "# Capomulin\n",
    "capomulin_outlier = []\n",
    "capomulin_lowerBound = capomulin_lowerq - (1.5*capomulin_iqr)\n",
    "capomulin_upperBound = capomulin_lowerq - (1.5*capomulin_iqr)\n",
    "\n",
    "for ca, y in regimen_df.iterrows():\n",
    "    if regimen_df.iloc[ca, 0] <= capomulin_lowerBound:\n",
    "        capomulin_outlier.append(regimen_df.iloc[ca, 0])\n",
    "    elif regimen_df.iloc[ca, 0] >= capomulin_lowerBound:\n",
    "        capomulin_outlier.append(regimen_df.iloc[ca, 0])\n",
    "        \n",
    "# Ramicane\n",
    "ramicane_outlier = []\n",
    "ramicane_lowerBound = ramicane_lowerq - (1.5*ramicane_iqr)\n",
    "ramicane_upperBound = ramicane_lowerq - (1.5*ramicane_iqr)\n",
    "\n",
    "\n",
    "for r, y in regimen_df.iterrows():\n",
    "    if regimen_df.iloc[r, 1] <= ramicane_lowerBound:\n",
    "        ramicane_outlier.append(ramicane_df.iloc[r, 1])\n",
    "    elif regimen_df.iloc[r, 1] >= ramicane_lowerBound:\n",
    "        ramicane_outlier.append(regimen_df.iloc[r, 1])\n",
    "        \n",
    "# Infubinol\n",
    "infubinol_outlier = []\n",
    "infubinol_lowerBound = infubinol_lowerq - (1.5*infubinol_iqr)\n",
    "infubinol_upperBound = infubinol_lowerq - (1.5*infubinol_iqr)\n",
    "\n",
    "for i, y in regimen_df.iterrows():\n",
    "    if regimen_df.iloc[i, 2] <= infubinol_lowerBound:\n",
    "        infubinol_outlier.append(regimen_df.iloc[i, 2])\n",
    "    elif regimen_df.iloc[i, 2] >= infubinol_lowerBound:\n",
    "        infubinol_outlier.append(regimen_df.iloc[i, 2])\n",
    "\n",
    "#Ceftamin\n",
    "ceftamin_outlier = []\n",
    "ceftamin_lowerBound = ceftamin_lowerq - (1.5*ceftamin_iqr)\n",
    "ceftamin_upperBound = ceftamin_lowerq - (1.5*ceftamin_iqr)\n",
    "\n",
    "for ce, y in regimen_df.iterrows():\n",
    "    if regimen_df.iloc[ce, 3] <= ceftamin_lowerBound:\n",
    "        ceftamin_outlier.append(regimen_df.iloc[ce, 3])\n",
    "    elif regimen_df.iloc[ce, 3] >= ceftamin_lowerBound:\n",
    "        ceftamin_outlier.append(regimen_df.iloc[ce, 3])"
   ]
  },
  {
   "cell_type": "code",
   "execution_count": 148,
   "metadata": {},
   "outputs": [
    {
     "data": {
      "image/png": "[encoded data removed]",
      "text/plain": [
       "<Figure size 720x720 with 4 Axes>"
      ]
     },
     "metadata": {
      "needs_background": "light"
     },
     "output_type": "display_data"
    }
   ],
   "source": [
    "# Generate a box plot of the final tumor volume of each mouse across four regimens of interest\n",
    "# https://matplotlib.org/3.1.1/gallery/statistics/boxplot_demo.html\n",
    "fig, ax = plt.subplots(2, 2,figsize=(10,10))\n",
    "\n",
    "ax[0,0].boxplot(regimen_df['Capomulin'])\n",
    "ax[0,0].set_title('Tumor Volume Range: Capomulin')\n",
    "\n",
    "ax[1,0].boxplot(regimen_df['Ramicane'])\n",
    "ax[1,0].set_title('Tumor Volume Range: Ramicane')\n",
    "\n",
    "ax[0,1].boxplot(regimen_df['Infubinol'])\n",
    "ax[0,1].set_title('Tumor Volume Range: Infubinol')\n",
    "\n",
    "ax[1,1].boxplot(regimen_df['Ceftamin'])\n",
    "ax[1,1].set_title('Tumor Volume Range: Ceftamin')\n",
    "\n",
    "fig.subplots_adjust(left=0.08, right=0.98, bottom=.05, top=0.9, hspace=0.2, wspace=0.3)\n"
   ]
  },
  {
   "cell_type": "markdown",
   "metadata": {},
   "source": [
    "## Line and Scatter Plots"
   ]
  },
  {
   "cell_type": "code",
   "execution_count": 149,
   "metadata": {},
   "outputs": [
    {
     "data": {
      "image/png": "[encoded data removed]",
      "text/plain": [
       "<Figure size 1440x360 with 1 Axes>"
      ]
     },
     "metadata": {
      "needs_background": "light"
     },
     "output_type": "display_data"
    }
   ],
   "source": [
    "# Generate a line plot of tumor volume vs. timepoint for a mouse treated with Capomulin\n",
    "mouse = 'w914'\n",
    "\n",
    "sample_mouse_df = clean_data.loc[data_full['Mouse ID'] == mouse] \n",
    "sample_mouse_df = sample_mouse_df.sort_values(by=['Timepoint'])\n",
    "\n",
    "timepoint = sample_mouse_df['Timepoint']\n",
    "tumor_volume = sample_mouse_df['Tumor Volume (mm3)']\n",
    "\n",
    "plt.figure(figsize=(20,5))\n",
    "plt.plot(timepoint, tumor_volume)\n",
    "plt.title(\"Tumor Volume Over Time with Capomulin: Mouse ID w914\")\n",
    "plt.ylabel(\"Tumor Volume (mm3)\")\n",
    "plt.xlabel(\"Timepoint\")\n",
    "plt.show()"
   ]
  },
  {
   "cell_type": "markdown",
   "metadata": {},
   "source": [
    "## Correlation and Regression"
   ]
  },
  {
   "cell_type": "code",
   "execution_count": 153,
   "metadata": {},
   "outputs": [],
   "source": [
    "# Generate a scatter plot of average tumor volume vs. mouse weight for the Capomulin regimen. \n",
    "# Note: this means mouse weight goes on the x-axis, with average tumor volume on the y-axis. \n",
    "drug = 'Capomulin'\n",
    "capomulin_df = clean_data.loc[data_full['Drug Regimen'] == drug] \n",
    "\n",
    "weight_df = capomulin_df.groupby(['Mouse ID']).agg({\"Weight (g)\": \"max\", \"Tumor Volume (mm3)\" : \"mean\"}) \n",
    "weight_df = weight_df.sort_values(by=['Weight (g)'])\n",
    "\n",
    "weight = weight_df['Weight (g)']\n",
    "avg_vol = weight_df['Tumor Volume (mm3)']"
   ]
  },
  {
   "cell_type": "code",
   "execution_count": 154,
   "metadata": {},
   "outputs": [
    {
     "data": {
      "image/png": "[encoded data removed]",
      "text/plain": [
       "<Figure size 720x360 with 1 Axes>"
      ]
     },
     "metadata": {
      "needs_background": "light"
     },
     "output_type": "display_data"
    }
   ],
   "source": [
    "# Calculate the correlation coefficient and linear regression model \n",
    "# for mouse weight and average tumor volume for the Capomulin regimen.\n",
    "(slope, intercept, rvalue, pvalue, stderr) = st.linregress(weight, avg_vol)\n",
    "regress_values = weight * slope + intercept\n",
    "line_eq = 'y = ' + str(round(slope,2)) + 'x + ' + str(round(intercept,2))\n",
    "\n",
    "plt.figure(figsize=(10,5))\n",
    "plt.scatter(weight, avg_vol)\n",
    "plt.plot(weight,regress_values, \"r-\")\n",
    "plt.annotate(line_eq,(21,36),fontsize=15,color=\"red\")\n",
    "plt.title(f\"{drug}: Weight (g) vs. Avg Tumor Vol\")\n",
    "plt.ylabel(\"Tumor Volume (mm3)\")\n",
    "plt.xlabel(\"Weight (g)\")\n",
    "plt.show()"
   ]
  },
  {
   "cell_type": "markdown",
   "metadata": {},
   "source": [
    "# Observations & Insights"
   ]
  },
  {
   "cell_type": "code",
   "execution_count": null,
   "metadata": {},
   "outputs": [],
   "source": [
    "# Observation 1:\n",
    "    # Based on the box plots, the Capomulin trial appears to have the least\n",
    "    # variance of all the drug regimen measured. These results indicate that\n",
    "    # Capomulin may be more consistent at reducing turmor volume relative to\n",
    "    # the drug regimen reviewed in this analysis.\n",
    "    \n",
    "# Observation 2:\n",
    "    # Looking at the Capomulin trial specifically, the Capomulin Regimen appears \n",
    "    # to be an effective treatment to reduce Tumor Volume (mm3) based on the \n",
    "    # reduced tumor size over the course of the trial across all mice.\n",
    "    \n",
    "# Observation 3:\n",
    "    # Based on the Average Weight correlation analysis there appears to be \n",
    "    # a strong positive correlation between Weight(g) and Tumor Volume (mm3) \n",
    "    # in the Capomulin trial.\n",
    "    # This strong positive correlation could be evidence that weight is a \n",
    "    # confounding variable in tumor growth"
   ]
  }
 ],
 "metadata": {
  "anaconda-cloud": {},
  "kernelspec": {
   "display_name": "Python 3",
   "language": "python",
   "name": "python3"
  },
  "language_info": {
   "codemirror_mode": {
    "name": "ipython",
    "version": 3
   },
   "file_extension": ".py",
   "mimetype": "text/x-python",
   "name": "python",
   "nbconvert_exporter": "python",
   "pygments_lexer": "ipython3",
   "version": "3.6.10"
  }
 },
 "nbformat": 4,
 "nbformat_minor": 2
}
